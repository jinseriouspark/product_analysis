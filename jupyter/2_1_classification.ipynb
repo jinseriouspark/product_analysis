{
 "cells": [
  {
   "cell_type": "code",
   "execution_count": 1,
   "id": "4b4d09e5",
   "metadata": {},
   "outputs": [],
   "source": [
    "import pandas as pd\n",
    "import numpy as np\n",
    "import glob"
   ]
  },
  {
   "cell_type": "code",
   "execution_count": 9,
   "id": "eea3a960",
   "metadata": {},
   "outputs": [],
   "source": [
    "# 1달치 데이터 가져옴\n",
    "item_list = glob.glob('../rawdata/2014-01*')\n",
    "for idx, p in enumerate(item_list):\n",
    "    df = pd.read_csv(p, encoding = 'cp949')\n",
    "    if idx == 0:\n",
    "        all_df = df\n",
    "    else:\n",
    "        all_df = pd.concat([all_df, df])"
   ]
  },
  {
   "cell_type": "code",
   "execution_count": 10,
   "id": "48dd4eef",
   "metadata": {},
   "outputs": [
    {
     "data": {
      "text/plain": [
       "(2800079, 8)"
      ]
     },
     "execution_count": 10,
     "metadata": {},
     "output_type": "execute_result"
    }
   ],
   "source": [
    "all_df.shape"
   ]
  },
  {
   "cell_type": "code",
   "execution_count": 11,
   "id": "815f6de1",
   "metadata": {},
   "outputs": [],
   "source": [
    "item_dict =item_info.set_index('pum_id').to_dict()['pum_name']"
   ]
  },
  {
   "cell_type": "code",
   "execution_count": 13,
   "id": "fb0e128c",
   "metadata": {},
   "outputs": [],
   "source": [
    "item_info = pd.read_csv('../rawdata/item_info.csv')\n",
    "all_df['pum_name'] =all_df['pum_id'].map(item_dict)"
   ]
  },
  {
   "cell_type": "code",
   "execution_count": 16,
   "id": "82678cc4",
   "metadata": {},
   "outputs": [
    {
     "data": {
      "text/plain": [
       "pum_name\n",
       "유아복      110676\n",
       "회화용구      94600\n",
       "아동화       87748\n",
       "필기구       75004\n",
       "스웨터       67605\n",
       "          ...  \n",
       "탄산음료       3681\n",
       "이유식        3619\n",
       "김          3332\n",
       "북어채        3306\n",
       "기초화장품       159\n",
       "Name: count, Length: 73, dtype: int64"
      ]
     },
     "execution_count": 16,
     "metadata": {},
     "output_type": "execute_result"
    }
   ],
   "source": [
    "# 총 73종류\n",
    "all_df.pum_name.value_counts()"
   ]
  },
  {
   "cell_type": "code",
   "execution_count": 18,
   "id": "7a9ea3d8",
   "metadata": {},
   "outputs": [
    {
     "data": {
      "text/html": [
       "<div>\n",
       "<style scoped>\n",
       "    .dataframe tbody tr th:only-of-type {\n",
       "        vertical-align: middle;\n",
       "    }\n",
       "\n",
       "    .dataframe tbody tr th {\n",
       "        vertical-align: top;\n",
       "    }\n",
       "\n",
       "    .dataframe thead th {\n",
       "        text-align: right;\n",
       "    }\n",
       "</style>\n",
       "<table border=\"1\" class=\"dataframe\">\n",
       "  <thead>\n",
       "    <tr style=\"text-align: right;\">\n",
       "      <th></th>\n",
       "      <th>collect_day</th>\n",
       "      <th>good_id</th>\n",
       "      <th>pum_id</th>\n",
       "      <th>pum_name</th>\n",
       "      <th>good_name</th>\n",
       "      <th>sales_price</th>\n",
       "      <th>discount_price</th>\n",
       "      <th>benifit</th>\n",
       "    </tr>\n",
       "  </thead>\n",
       "  <tbody>\n",
       "    <tr>\n",
       "      <th>0</th>\n",
       "      <td>2014-01-01</td>\n",
       "      <td>3740.0</td>\n",
       "      <td>E061100</td>\n",
       "      <td>습기제거제</td>\n",
       "      <td>알뜰상품_제습제_4입</td>\n",
       "      <td>4650.0</td>\n",
       "      <td>NaN</td>\n",
       "      <td>NaN</td>\n",
       "    </tr>\n",
       "    <tr>\n",
       "      <th>1</th>\n",
       "      <td>2014-01-01</td>\n",
       "      <td>6847.0</td>\n",
       "      <td>L012040</td>\n",
       "      <td>치약</td>\n",
       "      <td>비손_예스미백치약_120G</td>\n",
       "      <td>770.0</td>\n",
       "      <td>NaN</td>\n",
       "      <td>NaN</td>\n",
       "    </tr>\n",
       "    <tr>\n",
       "      <th>2</th>\n",
       "      <td>2014-01-01</td>\n",
       "      <td>156664.0</td>\n",
       "      <td>L012080</td>\n",
       "      <td>화장지</td>\n",
       "      <td>해피트리_3겹천연펄프화장지_35M*12R(S)</td>\n",
       "      <td>5800.0</td>\n",
       "      <td>NaN</td>\n",
       "      <td>NaN</td>\n",
       "    </tr>\n",
       "    <tr>\n",
       "      <th>3</th>\n",
       "      <td>2014-01-01</td>\n",
       "      <td>269074.0</td>\n",
       "      <td>L012180</td>\n",
       "      <td>NaN</td>\n",
       "      <td>리스테린 쿨 민트/후레쉬버스트/내추럴 시트러스/티쓰앤껌 750mlx2개 초특가</td>\n",
       "      <td>7800.0</td>\n",
       "      <td>NaN</td>\n",
       "      <td>NaN</td>\n",
       "    </tr>\n",
       "    <tr>\n",
       "      <th>4</th>\n",
       "      <td>2014-01-01</td>\n",
       "      <td>356548.0</td>\n",
       "      <td>C021010</td>\n",
       "      <td>아동화</td>\n",
       "      <td>Allie Ballet Flat</td>\n",
       "      <td>57140.0</td>\n",
       "      <td>NaN</td>\n",
       "      <td>NaN</td>\n",
       "    </tr>\n",
       "  </tbody>\n",
       "</table>\n",
       "</div>"
      ],
      "text/plain": [
       "  collect_day   good_id   pum_id pum_name  \\\n",
       "0  2014-01-01    3740.0  E061100    습기제거제   \n",
       "1  2014-01-01    6847.0  L012040       치약   \n",
       "2  2014-01-01  156664.0  L012080      화장지   \n",
       "3  2014-01-01  269074.0  L012180      NaN   \n",
       "4  2014-01-01  356548.0  C021010      아동화   \n",
       "\n",
       "                                     good_name  sales_price  discount_price  \\\n",
       "0                                  알뜰상품_제습제_4입       4650.0             NaN   \n",
       "1                               비손_예스미백치약_120G        770.0             NaN   \n",
       "2                    해피트리_3겹천연펄프화장지_35M*12R(S)       5800.0             NaN   \n",
       "3  리스테린 쿨 민트/후레쉬버스트/내추럴 시트러스/티쓰앤껌 750mlx2개 초특가       7800.0             NaN   \n",
       "4                            Allie Ballet Flat      57140.0             NaN   \n",
       "\n",
       "   benifit  \n",
       "0      NaN  \n",
       "1      NaN  \n",
       "2      NaN  \n",
       "3      NaN  \n",
       "4      NaN  "
      ]
     },
     "execution_count": 18,
     "metadata": {},
     "output_type": "execute_result"
    }
   ],
   "source": [
    "# 구조 : good_name 을 활용해 pum_name 을 분류\n",
    "\n",
    "all_df.head()"
   ]
  },
  {
   "cell_type": "code",
   "execution_count": 22,
   "id": "3864117e",
   "metadata": {},
   "outputs": [],
   "source": [
    "idx2pum = {idx: pum_id for idx, pum_id in enumerate(all_df['pum_id'].unique())}\n",
    "pum2idx = {v : k for k, v in idx2pum.items()}"
   ]
  },
  {
   "cell_type": "code",
   "execution_count": 25,
   "id": "204136a3",
   "metadata": {},
   "outputs": [],
   "source": [
    "all_df['pid'] = all_df['pum_id'].map(pum2idx)"
   ]
  },
  {
   "cell_type": "code",
   "execution_count": 26,
   "id": "20377deb",
   "metadata": {},
   "outputs": [],
   "source": [
    "rawdata = all_df[['good_name','pid']]"
   ]
  },
  {
   "cell_type": "markdown",
   "id": "42c98704",
   "metadata": {},
   "source": [
    "# 기본 korean 분류모델을 활용해 분류 baseline 을 생성하기"
   ]
  },
  {
   "cell_type": "code",
   "execution_count": 30,
   "id": "d33d356c",
   "metadata": {
    "scrolled": true
   },
   "outputs": [
    {
     "ename": "ModuleNotFoundError",
     "evalue": "No module named 'torch.utils.datasets'",
     "output_type": "error",
     "traceback": [
      "\u001b[1;31m---------------------------------------------------------------------------\u001b[0m",
      "\u001b[1;31mModuleNotFoundError\u001b[0m                       Traceback (most recent call last)",
      "Cell \u001b[1;32mIn[30], line 3\u001b[0m\n\u001b[0;32m      1\u001b[0m \u001b[38;5;28;01mimport\u001b[39;00m \u001b[38;5;21;01mtorch\u001b[39;00m\n\u001b[0;32m      2\u001b[0m \u001b[38;5;28;01mimport\u001b[39;00m \u001b[38;5;21;01mtorch\u001b[39;00m\u001b[38;5;21;01m.\u001b[39;00m\u001b[38;5;21;01mnn\u001b[39;00m \u001b[38;5;28;01mas\u001b[39;00m \u001b[38;5;21;01mnn\u001b[39;00m\n\u001b[1;32m----> 3\u001b[0m \u001b[38;5;28;01mfrom\u001b[39;00m \u001b[38;5;21;01mtorch\u001b[39;00m\u001b[38;5;21;01m.\u001b[39;00m\u001b[38;5;21;01mutils\u001b[39;00m\u001b[38;5;21;01m.\u001b[39;00m\u001b[38;5;21;01mdatasets\u001b[39;00m \u001b[38;5;28;01mimport\u001b[39;00m DataLoader, Dataset\n\u001b[0;32m      4\u001b[0m \u001b[38;5;28;01mimport\u001b[39;00m \u001b[38;5;21;01mtorch\u001b[39;00m\u001b[38;5;21;01m.\u001b[39;00m\u001b[38;5;21;01moptim\u001b[39;00m \u001b[38;5;28;01mas\u001b[39;00m \u001b[38;5;21;01moptim\u001b[39;00m\n",
      "\u001b[1;31mModuleNotFoundError\u001b[0m: No module named 'torch.utils.datasets'"
     ]
    }
   ],
   "source": [
    "import torch\n",
    "import torch.nn as nn\n",
    "from torch.utils.datasets import DataLoader, Dataset\n",
    "import torch.optim as optim"
   ]
  },
  {
   "cell_type": "code",
   "execution_count": 40,
   "id": "deceee24",
   "metadata": {
    "scrolled": true
   },
   "outputs": [],
   "source": [
    "#!pip install transformers"
   ]
  },
  {
   "cell_type": "code",
   "execution_count": null,
   "id": "221ce891",
   "metadata": {},
   "outputs": [],
   "source": [
    "from sklearn.metrics import "
   ]
  },
  {
   "cell_type": "code",
   "execution_count": 33,
   "id": "f3379410",
   "metadata": {},
   "outputs": [],
   "source": [
    "from  transformers import AutoModelForSequenceClassification , AutoTokenizer"
   ]
  },
  {
   "cell_type": "code",
   "execution_count": 39,
   "id": "e561df1c",
   "metadata": {},
   "outputs": [
    {
     "name": "stderr",
     "output_type": "stream",
     "text": [
      "100%|███████████████████████████████████████████████████████████████████████| 995526/995526 [00:01<00:00, 725166.04B/s]\n",
      "100%|█████████████████████████████████████████████████████████████████████████████| 625/625 [00:00<00:00, 624747.38B/s]\n",
      "100%|████████████████████████████████████████████████████████████████| 714314041/714314041 [01:56<00:00, 6135605.62B/s]\n"
     ]
    }
   ],
   "source": [
    "model_name = 'bert-base-multilingual-cased'\n",
    "tokenizer = AutoTokenizer.from_pretrained(model_name)\n",
    "model = AutoModelForSequenceClassification.from_pretrained(model_name)"
   ]
  },
  {
   "cell_type": "code",
   "execution_count": 43,
   "id": "9c0190ae",
   "metadata": {},
   "outputs": [
    {
     "data": {
      "text/plain": [
       "[9952, 35506]"
      ]
     },
     "execution_count": 43,
     "metadata": {},
     "output_type": "execute_result"
    }
   ],
   "source": [
    "tokenizer.encode('하하')"
   ]
  },
  {
   "cell_type": "code",
   "execution_count": null,
   "id": "38c5f24c",
   "metadata": {},
   "outputs": [],
   "source": [
    "class mydataset(Dataset):\n",
    "    def __init__(self, X, y):\n",
    "        self.X = X\n",
    "        self.y = y\n",
    "        \n",
    "    def __len__(self):\n",
    "        return len(self.X)\n",
    "    \n",
    "    def __getitem__(self, X):\n",
    "        tokenizer."
   ]
  }
 ],
 "metadata": {
  "kernelspec": {
   "display_name": "Python 3 (ipykernel)",
   "language": "python",
   "name": "python3"
  },
  "language_info": {
   "codemirror_mode": {
    "name": "ipython",
    "version": 3
   },
   "file_extension": ".py",
   "mimetype": "text/x-python",
   "name": "python",
   "nbconvert_exporter": "python",
   "pygments_lexer": "ipython3",
   "version": "3.11.4"
  }
 },
 "nbformat": 4,
 "nbformat_minor": 5
}
