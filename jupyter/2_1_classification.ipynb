{
 "cells": [
  {
   "cell_type": "code",
   "execution_count": 4,
   "id": "4b4d09e5",
   "metadata": {},
   "outputs": [],
   "source": [
    "import pandas as pd\n",
    "import numpy as np\n",
    "import glob"
   ]
  },
  {
   "cell_type": "code",
   "execution_count": 5,
   "id": "eea3a960",
   "metadata": {},
   "outputs": [],
   "source": [
    "# 1달치 데이터 가져옴\n",
    "item_list = glob.glob('../rawdata/2014-01*')\n",
    "for idx, p in enumerate(item_list):\n",
    "    df = pd.read_csv(p, encoding = 'cp949')\n",
    "    if idx == 0:\n",
    "        all_df = df\n",
    "    else:\n",
    "        all_df = pd.concat([all_df, df])"
   ]
  },
  {
   "cell_type": "code",
   "execution_count": 6,
   "id": "c123aa3f",
   "metadata": {},
   "outputs": [
    {
     "data": {
      "text/plain": [
       "(2800079, 8)"
      ]
     },
     "execution_count": 6,
     "metadata": {},
     "output_type": "execute_result"
    }
   ],
   "source": [
    "all_df.shape"
   ]
  },
  {
   "cell_type": "code",
   "execution_count": 12,
   "id": "fb0e128c",
   "metadata": {},
   "outputs": [],
   "source": [
    "item_info = pd.read_csv('../rawdata/item_info.csv')\n",
    "\n",
    "item_dict =item_info.set_index('pum_id').to_dict()['pum_name']\n",
    "all_df['pum_name'] =all_df['pum_id'].map(item_dict)"
   ]
  },
  {
   "cell_type": "code",
   "execution_count": 13,
   "id": "82678cc4",
   "metadata": {},
   "outputs": [
    {
     "data": {
      "text/plain": [
       "pum_name\n",
       "유아복      110676\n",
       "회화용구      94600\n",
       "아동화       87748\n",
       "필기구       75004\n",
       "스웨터       67605\n",
       "          ...  \n",
       "탄산음료       3681\n",
       "이유식        3619\n",
       "김          3332\n",
       "북어채        3306\n",
       "기초화장품       159\n",
       "Name: count, Length: 73, dtype: int64"
      ]
     },
     "execution_count": 13,
     "metadata": {},
     "output_type": "execute_result"
    }
   ],
   "source": [
    "# 총 73종류\n",
    "all_df.pum_name.value_counts()"
   ]
  },
  {
   "cell_type": "code",
   "execution_count": 14,
   "id": "5a0cb4fd",
   "metadata": {},
   "outputs": [
    {
     "data": {
      "text/html": [
       "<div>\n",
       "<style scoped>\n",
       "    .dataframe tbody tr th:only-of-type {\n",
       "        vertical-align: middle;\n",
       "    }\n",
       "\n",
       "    .dataframe tbody tr th {\n",
       "        vertical-align: top;\n",
       "    }\n",
       "\n",
       "    .dataframe thead th {\n",
       "        text-align: right;\n",
       "    }\n",
       "</style>\n",
       "<table border=\"1\" class=\"dataframe\">\n",
       "  <thead>\n",
       "    <tr style=\"text-align: right;\">\n",
       "      <th></th>\n",
       "      <th>collect_day</th>\n",
       "      <th>good_id</th>\n",
       "      <th>pum_id</th>\n",
       "      <th>pum_name</th>\n",
       "      <th>good_name</th>\n",
       "      <th>sales_price</th>\n",
       "      <th>discount_price</th>\n",
       "      <th>benifit</th>\n",
       "    </tr>\n",
       "  </thead>\n",
       "  <tbody>\n",
       "    <tr>\n",
       "      <th>0</th>\n",
       "      <td>2014-01-01</td>\n",
       "      <td>3740.0</td>\n",
       "      <td>E061100</td>\n",
       "      <td>습기제거제</td>\n",
       "      <td>알뜰상품_제습제_4입</td>\n",
       "      <td>4650.0</td>\n",
       "      <td>NaN</td>\n",
       "      <td>NaN</td>\n",
       "    </tr>\n",
       "    <tr>\n",
       "      <th>1</th>\n",
       "      <td>2014-01-01</td>\n",
       "      <td>6847.0</td>\n",
       "      <td>L012040</td>\n",
       "      <td>치약</td>\n",
       "      <td>비손_예스미백치약_120G</td>\n",
       "      <td>770.0</td>\n",
       "      <td>NaN</td>\n",
       "      <td>NaN</td>\n",
       "    </tr>\n",
       "    <tr>\n",
       "      <th>2</th>\n",
       "      <td>2014-01-01</td>\n",
       "      <td>156664.0</td>\n",
       "      <td>L012080</td>\n",
       "      <td>화장지</td>\n",
       "      <td>해피트리_3겹천연펄프화장지_35M*12R(S)</td>\n",
       "      <td>5800.0</td>\n",
       "      <td>NaN</td>\n",
       "      <td>NaN</td>\n",
       "    </tr>\n",
       "    <tr>\n",
       "      <th>3</th>\n",
       "      <td>2014-01-01</td>\n",
       "      <td>269074.0</td>\n",
       "      <td>L012180</td>\n",
       "      <td>NaN</td>\n",
       "      <td>리스테린 쿨 민트/후레쉬버스트/내추럴 시트러스/티쓰앤껌 750mlx2개 초특가</td>\n",
       "      <td>7800.0</td>\n",
       "      <td>NaN</td>\n",
       "      <td>NaN</td>\n",
       "    </tr>\n",
       "    <tr>\n",
       "      <th>4</th>\n",
       "      <td>2014-01-01</td>\n",
       "      <td>356548.0</td>\n",
       "      <td>C021010</td>\n",
       "      <td>아동화</td>\n",
       "      <td>Allie Ballet Flat</td>\n",
       "      <td>57140.0</td>\n",
       "      <td>NaN</td>\n",
       "      <td>NaN</td>\n",
       "    </tr>\n",
       "  </tbody>\n",
       "</table>\n",
       "</div>"
      ],
      "text/plain": [
       "  collect_day   good_id   pum_id pum_name  \\\n",
       "0  2014-01-01    3740.0  E061100    습기제거제   \n",
       "1  2014-01-01    6847.0  L012040       치약   \n",
       "2  2014-01-01  156664.0  L012080      화장지   \n",
       "3  2014-01-01  269074.0  L012180      NaN   \n",
       "4  2014-01-01  356548.0  C021010      아동화   \n",
       "\n",
       "                                     good_name  sales_price  discount_price  \\\n",
       "0                                  알뜰상품_제습제_4입       4650.0             NaN   \n",
       "1                               비손_예스미백치약_120G        770.0             NaN   \n",
       "2                    해피트리_3겹천연펄프화장지_35M*12R(S)       5800.0             NaN   \n",
       "3  리스테린 쿨 민트/후레쉬버스트/내추럴 시트러스/티쓰앤껌 750mlx2개 초특가       7800.0             NaN   \n",
       "4                            Allie Ballet Flat      57140.0             NaN   \n",
       "\n",
       "   benifit  \n",
       "0      NaN  \n",
       "1      NaN  \n",
       "2      NaN  \n",
       "3      NaN  \n",
       "4      NaN  "
      ]
     },
     "execution_count": 14,
     "metadata": {},
     "output_type": "execute_result"
    }
   ],
   "source": [
    "# 구조 : good_name 을 활용해 pum_name 을 분류\n",
    "\n",
    "all_df.head()"
   ]
  },
  {
   "cell_type": "code",
   "execution_count": 15,
   "id": "e0c5837c",
   "metadata": {},
   "outputs": [],
   "source": [
    "idx2pum = {idx: pum_id for idx, pum_id in enumerate(all_df['pum_id'].unique())}\n",
    "pum2idx = {v : k for k, v in idx2pum.items()}"
   ]
  },
  {
   "cell_type": "code",
   "execution_count": 16,
   "id": "5a788834",
   "metadata": {},
   "outputs": [],
   "source": [
    "all_df['pid'] = all_df['pum_id'].map(pum2idx)"
   ]
  },
  {
   "cell_type": "code",
   "execution_count": 17,
   "id": "d2d4ccdd",
   "metadata": {},
   "outputs": [],
   "source": [
    "rawdata = all_df[['good_name','pid']]"
   ]
  },
  {
   "cell_type": "code",
   "execution_count": 18,
   "id": "e29bcf23",
   "metadata": {},
   "outputs": [
    {
     "data": {
      "text/html": [
       "<div>\n",
       "<style scoped>\n",
       "    .dataframe tbody tr th:only-of-type {\n",
       "        vertical-align: middle;\n",
       "    }\n",
       "\n",
       "    .dataframe tbody tr th {\n",
       "        vertical-align: top;\n",
       "    }\n",
       "\n",
       "    .dataframe thead th {\n",
       "        text-align: right;\n",
       "    }\n",
       "</style>\n",
       "<table border=\"1\" class=\"dataframe\">\n",
       "  <thead>\n",
       "    <tr style=\"text-align: right;\">\n",
       "      <th></th>\n",
       "      <th>good_name</th>\n",
       "      <th>pid</th>\n",
       "    </tr>\n",
       "  </thead>\n",
       "  <tbody>\n",
       "    <tr>\n",
       "      <th>0</th>\n",
       "      <td>알뜰상품_제습제_4입</td>\n",
       "      <td>0</td>\n",
       "    </tr>\n",
       "    <tr>\n",
       "      <th>1</th>\n",
       "      <td>비손_예스미백치약_120G</td>\n",
       "      <td>1</td>\n",
       "    </tr>\n",
       "    <tr>\n",
       "      <th>2</th>\n",
       "      <td>해피트리_3겹천연펄프화장지_35M*12R(S)</td>\n",
       "      <td>2</td>\n",
       "    </tr>\n",
       "    <tr>\n",
       "      <th>3</th>\n",
       "      <td>리스테린 쿨 민트/후레쉬버스트/내추럴 시트러스/티쓰앤껌 750mlx2개 초특가</td>\n",
       "      <td>3</td>\n",
       "    </tr>\n",
       "    <tr>\n",
       "      <th>4</th>\n",
       "      <td>Allie Ballet Flat</td>\n",
       "      <td>4</td>\n",
       "    </tr>\n",
       "  </tbody>\n",
       "</table>\n",
       "</div>"
      ],
      "text/plain": [
       "                                     good_name  pid\n",
       "0                                  알뜰상품_제습제_4입    0\n",
       "1                               비손_예스미백치약_120G    1\n",
       "2                    해피트리_3겹천연펄프화장지_35M*12R(S)    2\n",
       "3  리스테린 쿨 민트/후레쉬버스트/내추럴 시트러스/티쓰앤껌 750mlx2개 초특가    3\n",
       "4                            Allie Ballet Flat    4"
      ]
     },
     "execution_count": 18,
     "metadata": {},
     "output_type": "execute_result"
    }
   ],
   "source": [
    "rawdata.head()"
   ]
  },
  {
   "cell_type": "markdown",
   "id": "05241468",
   "metadata": {},
   "source": [
    "# 기본 한국어분류모델을 활용해 분류 baseline 을 생성하기"
   ]
  },
  {
   "cell_type": "code",
   "execution_count": null,
   "id": "7edfa609",
   "metadata": {},
   "outputs": [],
   "source": [
    "!pip install --upgrade pip\n",
    "!pip install transformers==4.20.1"
   ]
  },
  {
   "cell_type": "code",
   "execution_count": 19,
   "id": "a6fad5b2",
   "metadata": {
    "scrolled": true
   },
   "outputs": [],
   "source": [
    "import torch\n",
    "import torch.nn as nn\n",
    "from torch.utils.data import DataLoader, Dataset\n",
    "import torch.optim as optim"
   ]
  },
  {
   "cell_type": "code",
   "execution_count": 20,
   "id": "c84636b9",
   "metadata": {},
   "outputs": [],
   "source": [
    "from  transformers import AutoModelForSequenceClassification , AutoTokenizer\n",
    "from transformers import pipeline"
   ]
  },
  {
   "cell_type": "code",
   "execution_count": 21,
   "id": "da7a3d9d",
   "metadata": {},
   "outputs": [
    {
     "data": {
      "application/vnd.jupyter.widget-view+json": {
       "model_id": "e4d2bc0d63f243b889647e52930bf61b",
       "version_major": 2,
       "version_minor": 0
      },
      "text/plain": [
       "model.safetensors:   0%|          | 0.00/714M [00:00<?, ?B/s]"
      ]
     },
     "metadata": {},
     "output_type": "display_data"
    },
    {
     "name": "stderr",
     "output_type": "stream",
     "text": [
      "C:\\Users\\jinseulpark\\AppData\\Roaming\\Python\\Python311\\site-packages\\huggingface_hub\\file_download.py:147: UserWarning: `huggingface_hub` cache-system uses symlinks by default to efficiently store duplicated files but your machine does not support them in C:\\Users\\jinseulpark\\.cache\\huggingface\\hub. Caching files will still work but in a degraded version that might require more space on your disk. This warning can be disabled by setting the `HF_HUB_DISABLE_SYMLINKS_WARNING` environment variable. For more details, see https://huggingface.co/docs/huggingface_hub/how-to-cache#limitations.\n",
      "To support symlinks on Windows, you either need to activate Developer Mode or to run Python as an administrator. In order to see activate developer mode, see this article: https://docs.microsoft.com/en-us/windows/apps/get-started/enable-your-device-for-development\n",
      "  warnings.warn(message)\n",
      "Some weights of BertForSequenceClassification were not initialized from the model checkpoint at bert-base-multilingual-cased and are newly initialized: ['classifier.bias', 'classifier.weight']\n",
      "You should probably TRAIN this model on a down-stream task to be able to use it for predictions and inference.\n"
     ]
    }
   ],
   "source": [
    "model_name = 'bert-base-multilingual-cased'\n",
    "tokenizer = AutoTokenizer.from_pretrained(model_name)\n",
    "model = AutoModelForSequenceClassification.from_pretrained(model_name, num_labels = rawdata.pid.nunique())"
   ]
  },
  {
   "cell_type": "code",
   "execution_count": 22,
   "id": "dad57c0a",
   "metadata": {},
   "outputs": [],
   "source": [
    "class mydataset(Dataset):\n",
    "    def __init__(self, X, y):\n",
    "        self.X = X\n",
    "        self.y = y\n",
    "        \n",
    "    def __len__(self):\n",
    "        return len(self.X)\n",
    "    \n",
    "    def __getitem__(self, idx):\n",
    "        token = [tokenizer(t, padding = 'max_length', max_length = 96,truncation = True, return_tensors = 'pt') for t in self.X[idx]]\n",
    "        label = torch.tensor(self.y[idx])\n",
    "        return {'feature': token, 'label': label}"
   ]
  },
  {
   "cell_type": "code",
   "execution_count": 23,
   "id": "442b7c80",
   "metadata": {},
   "outputs": [],
   "source": [
    "from sklearn.model_selection import train_test_split"
   ]
  },
  {
   "cell_type": "code",
   "execution_count": 24,
   "id": "d5272915",
   "metadata": {},
   "outputs": [],
   "source": [
    "X_train, X_test, y_train, y_test =train_test_split(rawdata['good_name'].values, rawdata['pid'].values, test_size = 0.3, random_state = 1205)"
   ]
  },
  {
   "cell_type": "code",
   "execution_count": 29,
   "id": "7944b78c",
   "metadata": {},
   "outputs": [],
   "source": [
    "train_ds = mydataset(X_train, y_train)\n",
    "test_ds = mydataset(X_test, y_test)"
   ]
  },
  {
   "cell_type": "code",
   "execution_count": 30,
   "id": "bb56a690",
   "metadata": {},
   "outputs": [],
   "source": [
    "train_dl = DataLoader(train_ds)\n",
    "test_dl = DataLoader(test_ds)"
   ]
  },
  {
   "cell_type": "code",
   "execution_count": null,
   "id": "e2a74b32",
   "metadata": {},
   "outputs": [],
   "source": [
    "criterion = nn."
   ]
  },
  {
   "cell_type": "code",
   "execution_count": null,
   "id": "7565b65c",
   "metadata": {},
   "outputs": [],
   "source": [
    "for EPOCH"
   ]
  }
 ],
 "metadata": {
  "kernelspec": {
   "display_name": "Python 3 (ipykernel)",
   "language": "python",
   "name": "python3"
  },
  "language_info": {
   "codemirror_mode": {
    "name": "ipython",
    "version": 3
   },
   "file_extension": ".py",
   "mimetype": "text/x-python",
   "name": "python",
   "nbconvert_exporter": "python",
   "pygments_lexer": "ipython3",
   "version": "3.11.4"
  }
 },
 "nbformat": 4,
 "nbformat_minor": 5
}
